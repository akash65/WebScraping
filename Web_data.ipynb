{
 "cells": [
  {
   "cell_type": "code",
   "execution_count": 1,
   "metadata": {},
   "outputs": [],
   "source": [
    "import requests\n",
    "from bs4 import BeautifulSoup\n",
    "\n",
    "r = requests.get(\"https://housing.com/in/buy/search?f=eyJiYXNlIjpbeyJ0eXBlIjoiUE9MWSIsInV1aWQiOiJjOTZkZWFiZGU2NzQzZjZmNjc3YyIsImxhYmVsIjoiSyBSIFB1cmFtIn1dLCJub25CYXNlQ291bnQiOjAsInYiOjIsInMiOiJkIn0%3D\")\n",
    "value = r.content\n",
    "\n",
    "soup = BeautifulSoup(value, \"html.parser\")\n",
    "\n",
    "all = soup.find_all(\"div\", {\"class\":\"list-item-container\"})\n",
    "\n",
    "all[0].find(\"span\", {\"class\":\"lst-price\"}).text\n",
    "\n",
    "l=[]\n",
    "for item in all:\n",
    "    d={}\n",
    "    try:\n",
    "        #print(item.find(\"div\", {\"class\":\"lst-prjct-by text-ellipsis\"}).text.replace(\"by\",\"\").replace(\"Search\",\"\"))\n",
    "        d[\"Builders\"]=item.find(\"div\", {\"class\":\"lst-prjct-by text-ellipsis\"}).text.replace(\"by\",\"\").replace(\"Search\",\"\")\n",
    "    except:\n",
    "        d[\"Builders\"]=None\n",
    "    try:\n",
    "        #print(item.find(\"div\", {\"class\":\"lst-loct text-ellipsis\"}).text)\n",
    "        d[\"Locality\"]=item.find(\"div\", {\"class\":\"lst-loct text-ellipsis\"}).text\n",
    "    except:\n",
    "        d[\"Locality\"]=None\n",
    "    try:\n",
    "        #print(item.find(\"span\",{\"class\":\"lst-price\"}).text)\n",
    "        d[\"LPrice\"]=item.find(\"span\",{\"class\":\"lst-price\"}).text\n",
    "    except:\n",
    "        d[\"LPrice\"]=None\n",
    "    try:\n",
    "        #print(item.find(\"div\", {\"class\":\"stub emiWidget\"}).text.replace(\"EMI starts at\",\"\"))\n",
    "        d[\"Monthly_Installment\"]=item.find(\"div\", {\"class\":\"stub emiWidget\"}).text.replace(\"EMI starts at\",\"\")\n",
    "    except:\n",
    "        d[\"Monthly_Installment\"]=None\n",
    "    try:\n",
    "        #print(item.find(\"div\", {\"class\":\"lst-sub-value lst-config-title text-ellipsis\"}).text.replace(\"BHK Apartment\",\"\"))\n",
    "        d[\"Villa_BHK\"]=item.find(\"div\", {\"class\":\"lst-sub-value lst-config-title text-ellipsis\"}).text.replace(\"BHK Apartment\",\"\")\n",
    "    except:\n",
    "        d[\"Villa_BHK\"]=None\n",
    "    try:\n",
    "        #print(item.find(\"div\", {\"class\":\"lst-sub-value text-ellipsis\"}).text.replace(\"per sqft.\",\"\"))\n",
    "        d[\"sqft\"]=item.find(\"div\", {\"class\":\"lst-sub-value text-ellipsis\"}).text.replace(\"per sqft.\",\"\")\n",
    "    except:\n",
    "        d[\"sqft\"]=None\n",
    "    \n",
    "    print(\"\")\n",
    "    l.append(d)\n",
    "    \n",
    "\n",
    "import pandas\n",
    "df = pandas.DataFrame(l)\n",
    "\n",
    "df.to_csv(\"ouptu.csv\")"
   ]
  }
 ],
 "metadata": {
  "kernelspec": {
   "display_name": "Python 3",
   "language": "python",
   "name": "python3"
  },
  "language_info": {
   "codemirror_mode": {
    "name": "ipython",
    "version": 3
   },
   "file_extension": ".py",
   "mimetype": "text/x-python",
   "name": "python",
   "nbconvert_exporter": "python",
   "pygments_lexer": "ipython3",
   "version": "3.6.5"
  }
 },
 "nbformat": 4,
 "nbformat_minor": 2
}
